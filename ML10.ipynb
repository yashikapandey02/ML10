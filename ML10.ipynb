{
 "cells": [
  {
   "cell_type": "code",
   "execution_count": null,
   "id": "02523a32",
   "metadata": {},
   "outputs": [],
   "source": [
    "1. Define the Bayesian interpretation of probability.\n",
    "\n",
    "Bayesian probability is a conditional probability which can be defined as: The probability of A given B or P(A|B) is equal to \n",
    "    the Probability of B given A or P(B|A) multiplied by Probability of A or P(A), whole divided by Probability of B or P(B). \n",
    "    or\n",
    "\n",
    "P(A|B) = (P(B|A).P(A))/P(B) when P(B) and P(A) > 0.\n",
    "\n",
    "Bayes Probability or Bayes theorem relies on assuming prior knowledge of conditions that are related to an event.\n"
   ]
  },
  {
   "cell_type": "code",
   "execution_count": null,
   "id": "37b359e3",
   "metadata": {},
   "outputs": [],
   "source": [
    "2. Define probability of a union of two events with equation.\n",
    "\n",
    "Probability of a union of two events can be defined as: The probability of a union of two events A and B (A U B) is equal to \n",
    "the sum of probabilities of A and B, subtracting the probability of intersection of two events A and B.\n",
    "\n",
    "mathematically,\n",
    "\n",
    "P(A U B) = P(A) + P(B) - P(A ∩ B)\n"
   ]
  },
  {
   "cell_type": "code",
   "execution_count": null,
   "id": "91de1dca",
   "metadata": {},
   "outputs": [],
   "source": [
    "3. What is joint probability? What is its formula?\n",
    "\n",
    "Joint probability or the multiplicative rule of probability is the probability of two events occuring spontaneously given that\n",
    "the events are independent.\n",
    "\n",
    "Mathematically,\n",
    "\n",
    "P(A ∩ B) = P(A) * P(B)\n"
   ]
  },
  {
   "cell_type": "code",
   "execution_count": null,
   "id": "52328612",
   "metadata": {},
   "outputs": [],
   "source": [
    "4. What is chain rule of probability?\n",
    "\n",
    "Chain rule is an extension to the joint probability where simultaneous occurence of A and B can also be written as\n",
    "\n",
    "P(A ∩ B) = P(A) * P(B|A)\n",
    "\n",
    "and can be further extended to calculate simulataneous occurence of 3 events A,B and C and\n",
    "\n",
    "P(A ∩ B ∩ C) = P(A) * P(B|A) * P(C|A ∩ B)\n"
   ]
  },
  {
   "cell_type": "code",
   "execution_count": null,
   "id": "a4422fad",
   "metadata": {},
   "outputs": [],
   "source": [
    "5. What is conditional probability means? What is the formula of it?\n",
    "\n",
    "Probability of an event A occuring given event B has already occurred is conditional probability. It is mathematically written\n",
    "as\n",
    "\n",
    "P(A|B) = P(A ∩ B)/P(B)\n"
   ]
  },
  {
   "cell_type": "code",
   "execution_count": null,
   "id": "b5db49f4",
   "metadata": {},
   "outputs": [],
   "source": [
    "6. What are continuous random variables?\n",
    "\n",
    "Continous random variables are variables whose values come from a subset of Real Numbers which is uncountably infinite.\n"
   ]
  },
  {
   "cell_type": "code",
   "execution_count": null,
   "id": "cb41e8a7",
   "metadata": {},
   "outputs": [],
   "source": [
    "7. What are Bernoulli distributions? What is the formula of it?\n",
    "\n",
    "Bernoulli distributions are a special case of Binomial distributions. This distribution is created by a single trial which can\n",
    "only have two outcomes, either success or failure. Probability Mass Function for Bernoulli Distribution is\n",
    "\n",
    "P(X=x) = p^x(1 - p)^(1-x) where p is the probability of success and 1-p is probability of failure where a random variable X can\n",
    "take only two values 0 and 1. x=1 would mean probability of success gets activated while x=0 would mean probability of failure\n",
    "gets activated.\n"
   ]
  },
  {
   "cell_type": "code",
   "execution_count": null,
   "id": "7b53de29",
   "metadata": {},
   "outputs": [],
   "source": [
    "8. What is binomial distribution? What is the formula?\n",
    "\n",
    "When one Bernoulli trial is repeated n times and all trials are independent and identical, Binomial distribution is created\n",
    "where P(X) would give the probability of number of successes out of n trails. Its Probability Mass Function is\n",
    "\n",
    "P(X=x) = nCx * p^x * q^(n-x) where n is number of trails and x is the number of successes out of n trials.\n"
   ]
  },
  {
   "cell_type": "code",
   "execution_count": null,
   "id": "283eeae1",
   "metadata": {},
   "outputs": [],
   "source": [
    "9. What is Poisson distribution? What is the formula?\n",
    "\n",
    "Poisson distribution is a discrete probability distribution that is used to calculate the likelihood of an event within a time\n",
    "period. When p is close to 0, and n trials are infinite in number, then assuming n * p = λ\n",
    "\n",
    "P(λ) = ((e^-λ) * (λ^x))/x! where λ>0\n"
   ]
  },
  {
   "cell_type": "code",
   "execution_count": null,
   "id": "3a6812cf",
   "metadata": {},
   "outputs": [],
   "source": [
    "10. Define covariance.\n",
    "\n",
    "Linear relationship between 2 random variables can be given by Cov(X,Y) such that\n",
    "\n",
    "Cov(X,Y) = Expectation((X - Expectation(X))(Y - E(Y)))\n",
    "\n",
    "or\n",
    "\n",
    "Expectation(XY) - Expectation(X).Expectation(Y)\n",
    "\n",
    "Covariance can only measure direction of linear relationship between 2 random variables.\n"
   ]
  },
  {
   "cell_type": "code",
   "execution_count": null,
   "id": "3ab13094",
   "metadata": {},
   "outputs": [],
   "source": [
    "11. Define correlation\n",
    "\n",
    "Correlation is the numeric property which is used to measure direction and magnitude of the linear relationship between 2 \n",
    "random variables. High correlation does not guarantee causation.\n"
   ]
  },
  {
   "cell_type": "code",
   "execution_count": null,
   "id": "a4fa91fa",
   "metadata": {},
   "outputs": [],
   "source": [
    "12. Define sampling with replacement. Give example.\n",
    "\n",
    "Sampling with replacement is the process of procuring subsets of data when any population element can be chosen and included \n",
    "into subsets more than once.\n",
    "\n",
    "If out of a class of 40 students we need to sample 10 students with simple random sampling method with replacement, we may\n",
    "choose one student more than once and include it into our subset.\n"
   ]
  },
  {
   "cell_type": "code",
   "execution_count": null,
   "id": "e38b0969",
   "metadata": {},
   "outputs": [],
   "source": [
    "13. What is sampling without replacement? Give example.\n",
    "\n",
    "Sampling with replacement is the process of procuring subsets of data when a population element can be chosen and included into \n",
    "subsets only once.\n",
    "\n",
    "If out of a class of 40 students we need to sample 10 students without replacement, we have to choose one student only once and\n",
    "include it into our subset. This would mean that all the elements of that subset would necessarily be different.\n"
   ]
  },
  {
   "cell_type": "code",
   "execution_count": null,
   "id": "aa096f74",
   "metadata": {},
   "outputs": [],
   "source": [
    "14. What is hypothesis? Give example.\n",
    "\n",
    "Hypothesis is any proposed statement either true or false, that is based on the possible outcome of a research or a statistical\n",
    "study. Hypothesis can be of parametric or statistical type.\n",
    "\n",
    "Increase in the years of experience will lead to increase in salary is an example of hypothesis.\n"
   ]
  }
 ],
 "metadata": {
  "kernelspec": {
   "display_name": "Python 3 (ipykernel)",
   "language": "python",
   "name": "python3"
  },
  "language_info": {
   "codemirror_mode": {
    "name": "ipython",
    "version": 3
   },
   "file_extension": ".py",
   "mimetype": "text/x-python",
   "name": "python",
   "nbconvert_exporter": "python",
   "pygments_lexer": "ipython3",
   "version": "3.9.7"
  }
 },
 "nbformat": 4,
 "nbformat_minor": 5
}
